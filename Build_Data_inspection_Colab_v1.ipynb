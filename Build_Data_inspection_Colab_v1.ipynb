{
  "nbformat": 4,
  "nbformat_minor": 0,
  "metadata": {
    "colab": {
      "name": "Build Data inspection Colab.ipynb",
      "provenance": [],
      "collapsed_sections": []
    },
    "kernelspec": {
      "name": "python3",
      "display_name": "Python 3"
    }
  },
  "cells": [
    {
      "cell_type": "markdown",
      "metadata": {
        "id": "ok9eEc1E1iRS",
        "colab_type": "text"
      },
      "source": [
        "Notes:\n",
        "\n",
        "make flavors and effects into standard categories...?\n",
        "\n",
        "split string into up to four different categories\n",
        "\n",
        "\n",
        "maybe\n",
        "make a function that counts the commas,(or slashes?) and split strings the string into that many columns...\n",
        "or...\n",
        "make a function that counts and then adds commas so that they all have a uniform number of commas...\n",
        "\n",
        "\n",
        "maybe append to string...\n",
        "\n",
        "count commas in string and make a new collumn...\n",
        "https://www.geeksforgeeks.org/python-pandas-split-strings-into-two-list-columns-using-str-split/\n"
      ]
    },
    {
      "cell_type": "markdown",
      "metadata": {
        "id": "R7duO07q8VU6",
        "colab_type": "text"
      },
      "source": [
        "manually make a set of flavour columns\n",
        "and make a boolean ?function or line that adds a true to that column if\n",
        "flavor_text contains that string\n",
        "\n",
        "https://pandas.pydata.org/pandas-docs/stable/reference/api/pandas.Series.str.contains.html\n",
        "\n",
        "df['earthy_flavor'] = df.str.contains('earthy', regex=False)\n",
        "\n",
        "\n",
        "https://stackoverflow.com/questions/43055050/python-pandas-if-column-string-contains-word-flag\n",
        "\n"
      ]
    },
    {
      "cell_type": "markdown",
      "metadata": {
        "id": "tc7Y7GjxIomd",
        "colab_type": "text"
      },
      "source": [
        "# Steps to create flavor categories:\n",
        "\n",
        "1. Make a 'list' of unique flavor features/categories:\n",
        "-\n",
        "-\n",
        "-\n",
        "-\n",
        "-\n",
        "-\n",
        "\n",
        "2. make a series of flavor text with: \n",
        "\n",
        "### flavor_series = pd.Series(flavor_data)\n",
        "\n",
        "3. create a new column of flavor_feature with:\n",
        "\n",
        "### df['earthy_flavor'] = flavor_series.str.contains('earthy', regex=False)\n",
        "\n",
        "\n"
      ]
    },
    {
      "cell_type": "code",
      "metadata": {
        "id": "pUoQFjQR1h3n",
        "colab_type": "code",
        "colab": {}
      },
      "source": [
        "# Import Libraries & Packages\n",
        "\n",
        "import pandas as pd\n",
        "import numpy as np"
      ],
      "execution_count": 0,
      "outputs": []
    },
    {
      "cell_type": "code",
      "metadata": {
        "id": "gJ176wWjyszp",
        "colab_type": "code",
        "colab": {}
      },
      "source": [
        "#so more head displays\n",
        "#override display option\n",
        "pd.set_option('display.max_rows', 500)\n",
        "pd.set_option('display.max_columns', 500)\n",
        "pd.set_option('display.width', 1000)"
      ],
      "execution_count": 0,
      "outputs": []
    },
    {
      "cell_type": "code",
      "metadata": {
        "id": "jSwz_Q-A1h6I",
        "colab_type": "code",
        "colab": {}
      },
      "source": [
        "# csv here for download\n",
        "#https://drive.google.com/open?id=15-KMmSgxISrH8WtGGZPSB-C7DANSMLny"
      ],
      "execution_count": 0,
      "outputs": []
    },
    {
      "cell_type": "code",
      "metadata": {
        "id": "m0OXthCnWmT-",
        "colab_type": "code",
        "colab": {
          "base_uri": "https://localhost:8080/",
          "height": 217
        },
        "outputId": "8c5f4126-0606-4fc6-cc4c-4c9cd18dcc9e"
      },
      "source": [
        "!wget https://raw.githubusercontent.com/MedCabinet/ML_Machine_Learning_Files/master/med1.csv"
      ],
      "execution_count": 4,
      "outputs": [
        {
          "output_type": "stream",
          "text": [
            "--2019-12-24 00:42:11--  https://raw.githubusercontent.com/MedCabinet/ML_Machine_Learning_Files/master/med1.csv\n",
            "Resolving raw.githubusercontent.com (raw.githubusercontent.com)... 151.101.0.133, 151.101.64.133, 151.101.128.133, ...\n",
            "Connecting to raw.githubusercontent.com (raw.githubusercontent.com)|151.101.0.133|:443... connected.\n",
            "HTTP request sent, awaiting response... 200 OK\n",
            "Length: 1267451 (1.2M) [text/plain]\n",
            "Saving to: ‘med1.csv.1’\n",
            "\n",
            "med1.csv.1          100%[===================>]   1.21M  --.-KB/s    in 0.08s   \n",
            "\n",
            "2019-12-24 00:42:11 (15.4 MB/s) - ‘med1.csv.1’ saved [1267451/1267451]\n",
            "\n"
          ],
          "name": "stdout"
        }
      ]
    },
    {
      "cell_type": "code",
      "metadata": {
        "id": "WyxvIA951h7x",
        "colab_type": "code",
        "colab": {
          "base_uri": "https://localhost:8080/",
          "height": 35
        },
        "outputId": "e015bcb6-5386-4099-bf70-d29b3256fe7b"
      },
      "source": [
        "!ls"
      ],
      "execution_count": 5,
      "outputs": [
        {
          "output_type": "stream",
          "text": [
            "med1.csv  med1.csv.1  sample_data\n"
          ],
          "name": "stdout"
        }
      ]
    },
    {
      "cell_type": "code",
      "metadata": {
        "id": "2jAu9xCe1h-I",
        "colab_type": "code",
        "colab": {
          "base_uri": "https://localhost:8080/",
          "height": 35
        },
        "outputId": "96877b7a-5e67-4021-d041-173dec9ac153"
      },
      "source": [
        "# for colab\n",
        "# upload file from local drives\n",
        "import os\n",
        "from google.colab import files\n",
        "#uploaded = files.upload()\n",
        "!ls #check file is there\n"
      ],
      "execution_count": 6,
      "outputs": [
        {
          "output_type": "stream",
          "text": [
            "med1.csv  med1.csv.1  sample_data\n"
          ],
          "name": "stdout"
        }
      ]
    },
    {
      "cell_type": "code",
      "metadata": {
        "id": "CIgTJzih1r6l",
        "colab_type": "code",
        "colab": {}
      },
      "source": [
        "df = pd.read_csv('med1.csv')"
      ],
      "execution_count": 0,
      "outputs": []
    },
    {
      "cell_type": "code",
      "metadata": {
        "id": "8wsWPnG2TuYx",
        "colab_type": "code",
        "colab": {
          "base_uri": "https://localhost:8080/",
          "height": 35
        },
        "outputId": "0d3f7d1c-8f5c-42a4-be5a-56dec728c42b"
      },
      "source": [
        "df.shape"
      ],
      "execution_count": 8,
      "outputs": [
        {
          "output_type": "execute_result",
          "data": {
            "text/plain": [
              "(2351, 6)"
            ]
          },
          "metadata": {
            "tags": []
          },
          "execution_count": 8
        }
      ]
    },
    {
      "cell_type": "code",
      "metadata": {
        "id": "JAr6jz3C1tGI",
        "colab_type": "code",
        "colab": {
          "base_uri": "https://localhost:8080/",
          "height": 168
        },
        "outputId": "f33197b0-4ba4-4d05-803c-0fba52956c46"
      },
      "source": [
        "df.head(4)"
      ],
      "execution_count": 9,
      "outputs": [
        {
          "output_type": "execute_result",
          "data": {
            "text/html": [
              "<div>\n",
              "<style scoped>\n",
              "    .dataframe tbody tr th:only-of-type {\n",
              "        vertical-align: middle;\n",
              "    }\n",
              "\n",
              "    .dataframe tbody tr th {\n",
              "        vertical-align: top;\n",
              "    }\n",
              "\n",
              "    .dataframe thead th {\n",
              "        text-align: right;\n",
              "    }\n",
              "</style>\n",
              "<table border=\"1\" class=\"dataframe\">\n",
              "  <thead>\n",
              "    <tr style=\"text-align: right;\">\n",
              "      <th></th>\n",
              "      <th>Strain</th>\n",
              "      <th>Type</th>\n",
              "      <th>Rating</th>\n",
              "      <th>Effects</th>\n",
              "      <th>Flavor</th>\n",
              "      <th>Description</th>\n",
              "    </tr>\n",
              "  </thead>\n",
              "  <tbody>\n",
              "    <tr>\n",
              "      <th>0</th>\n",
              "      <td>100-Og</td>\n",
              "      <td>hybrid</td>\n",
              "      <td>4.0</td>\n",
              "      <td>Creative,Energetic,Tingly,Euphoric,Relaxed</td>\n",
              "      <td>Earthy,Sweet,Citrus</td>\n",
              "      <td>$100 OG is a 50/50 hybrid strain that packs a ...</td>\n",
              "    </tr>\n",
              "    <tr>\n",
              "      <th>1</th>\n",
              "      <td>98-White-Widow</td>\n",
              "      <td>hybrid</td>\n",
              "      <td>4.7</td>\n",
              "      <td>Relaxed,Aroused,Creative,Happy,Energetic</td>\n",
              "      <td>Flowery,Violet,Diesel</td>\n",
              "      <td>The ‘98 Aloha White Widow is an especially pot...</td>\n",
              "    </tr>\n",
              "    <tr>\n",
              "      <th>2</th>\n",
              "      <td>1024</td>\n",
              "      <td>sativa</td>\n",
              "      <td>4.4</td>\n",
              "      <td>Uplifted,Happy,Relaxed,Energetic,Creative</td>\n",
              "      <td>Spicy/Herbal,Sage,Woody</td>\n",
              "      <td>1024 is a sativa-dominant hybrid bred in Spain...</td>\n",
              "    </tr>\n",
              "    <tr>\n",
              "      <th>3</th>\n",
              "      <td>13-Dawgs</td>\n",
              "      <td>hybrid</td>\n",
              "      <td>4.2</td>\n",
              "      <td>Tingly,Creative,Hungry,Relaxed,Uplifted</td>\n",
              "      <td>Apricot,Citrus,Grapefruit</td>\n",
              "      <td>13 Dawgs is a hybrid of G13 and Chemdawg genet...</td>\n",
              "    </tr>\n",
              "  </tbody>\n",
              "</table>\n",
              "</div>"
            ],
            "text/plain": [
              "           Strain    Type  Rating                                     Effects                     Flavor                                        Description\n",
              "0          100-Og  hybrid     4.0  Creative,Energetic,Tingly,Euphoric,Relaxed        Earthy,Sweet,Citrus  $100 OG is a 50/50 hybrid strain that packs a ...\n",
              "1  98-White-Widow  hybrid     4.7    Relaxed,Aroused,Creative,Happy,Energetic      Flowery,Violet,Diesel  The ‘98 Aloha White Widow is an especially pot...\n",
              "2            1024  sativa     4.4   Uplifted,Happy,Relaxed,Energetic,Creative    Spicy/Herbal,Sage,Woody  1024 is a sativa-dominant hybrid bred in Spain...\n",
              "3        13-Dawgs  hybrid     4.2     Tingly,Creative,Hungry,Relaxed,Uplifted  Apricot,Citrus,Grapefruit  13 Dawgs is a hybrid of G13 and Chemdawg genet..."
            ]
          },
          "metadata": {
            "tags": []
          },
          "execution_count": 9
        }
      ]
    },
    {
      "cell_type": "code",
      "metadata": {
        "id": "nyfYRrnZ1tI8",
        "colab_type": "code",
        "colab": {}
      },
      "source": [
        "# Making Flavour Features"
      ],
      "execution_count": 0,
      "outputs": []
    },
    {
      "cell_type": "code",
      "metadata": {
        "id": "Kyq6--TAICrt",
        "colab_type": "code",
        "colab": {}
      },
      "source": [
        "#http://www.datasciencemadesimple.com/create-series-in-python-pandas/\n",
        "flavor_data = df['Flavor']\n"
      ],
      "execution_count": 0,
      "outputs": []
    },
    {
      "cell_type": "code",
      "metadata": {
        "id": "i0QZ91DZIN1b",
        "colab_type": "code",
        "colab": {}
      },
      "source": [
        "flavor_series = pd.Series(flavor_data)"
      ],
      "execution_count": 0,
      "outputs": []
    },
    {
      "cell_type": "code",
      "metadata": {
        "id": "9etSJP8827RU",
        "colab_type": "code",
        "colab": {}
      },
      "source": [
        "# model: tested, works\n",
        "# df['Earthy_flavor'] = flavor_series.str.contains('Earthy', regex=False)"
      ],
      "execution_count": 0,
      "outputs": []
    },
    {
      "cell_type": "code",
      "metadata": {
        "id": "3hzoCmJ2M-bJ",
        "colab_type": "code",
        "colab": {}
      },
      "source": [
        "\n",
        "df['Ammonia_flavor'] = flavor_series.str.contains('Ammonia', regex=False)\n",
        "df['Apple_flavor'] = flavor_series.str.contains('Apple', regex=False)\n",
        "df['Apricot_flavor'] = flavor_series.str.contains('Apricot', regex=False)\n",
        "\n",
        "df['Berry_flavor'] = flavor_series.str.contains('Berry', regex=False)\n",
        "df['Blue_flavor'] = flavor_series.str.contains('Blue', regex=False)\n",
        "df['Blueberry_flavor'] = flavor_series.str.contains('Blueberry', regex=False)\n",
        "\n",
        "df['Citrus_flavor'] = flavor_series.str.contains('Citrus', regex=False)\n",
        "df['Cheese_flavor'] = flavor_series.str.contains('Cheese', regex=False)\n",
        "df['Chemical_flavor'] = flavor_series.str.contains('Chemical', regex=False)\n",
        "df['Chestnut_flavor'] = flavor_series.str.contains('Chestnut', regex=False)\n",
        "\n",
        "df['Diesel_flavor'] = flavor_series.str.contains('Diesel', regex=False)\n",
        "\n",
        "df['Earthy_flavor'] = flavor_series.str.contains('Earthy', regex=False)\n",
        "\n",
        "df['Flowery_flavor'] = flavor_series.str.contains('Flowery', regex=False)\n",
        "df['Fruit_flavor'] = flavor_series.str.contains('Fruit', regex=False)\n",
        "\n",
        "df['Grape_flavor'] = flavor_series.str.contains('Grape', regex=False)\n",
        "df['Grapefruit_flavor'] = flavor_series.str.contains('Grapefruit', regex=False)\n",
        "\n",
        "df['Honey_flavor'] = flavor_series.str.contains('Honey', regex=False)\n",
        "\n",
        "df['Lavender_flavor'] = flavor_series.str.contains('Lavender', regex=False)\n",
        "df['Lemon_flavor'] = flavor_series.str.contains('Lemon', regex=False)\n",
        "\n",
        "df['Mango_flavor'] = flavor_series.str.contains('Mango', regex=False)\n",
        "df['Menthol_flavor'] = flavor_series.str.contains('Menthol', regex=False)\n",
        "df['Mint_flavor'] = flavor_series.str.contains('Mint', regex=False)\n",
        "df['Minty_flavor'] = flavor_series.str.contains('Minty', regex=False)\n",
        "\n",
        "df['Nutty_flavor'] = flavor_series.str.contains('Nutty', regex=False)\n",
        "df['Orange_flavor'] = flavor_series.str.contains('Orange', regex=False)\n",
        "\n",
        "df['Peach_flavor'] = flavor_series.str.contains('Peach', regex=False)\n",
        "df['Pepper_flavor'] = flavor_series.str.contains('Pepper', regex=False)\n",
        "df['Pine_flavor'] = flavor_series.str.contains('Pine', regex=False)\n",
        "df['Pineapple_flavor'] = flavor_series.str.contains('Pineapple', regex=False)\n",
        "df['Pungent_flavor'] = flavor_series.str.contains('Pungent', regex=False)\n",
        "\n",
        "df['Sage_flavor'] = flavor_series.str.contains('Sage', regex=False)\n",
        "df['Skunk_flavor'] = flavor_series.str.contains('Skunk', regex=False)\n",
        "df['SpicyHerbal_flavor'] = flavor_series.str.contains('Spicy/Herbal', regex=False)\n",
        "df['Strawberry'] = flavor_series.str.contains('Strawberry', regex=False)\n",
        "df['Sweet_flavor'] = flavor_series.str.contains('Sweet', regex=False)\n",
        "\n",
        "df['Tea_flavor'] = flavor_series.str.contains('Tea', regex=False)\n",
        "df['Tobacco_flavor'] = flavor_series.str.contains('Tobacco', regex=False)\n",
        "df['Tree_flavor'] = flavor_series.str.contains('Tree', regex=False)\n",
        "df['Tropical_flavor'] = flavor_series.str.contains('Tropical', regex=False)\n",
        "\n",
        "df['Vanilla_flavor'] = flavor_series.str.contains('Vanilla', regex=False)\n",
        "df['Violet_flavor'] = flavor_series.str.contains('Violet', regex=False)\n",
        "\n",
        "df['Woody_flavor'] = flavor_series.str.contains('Woody', regex=False)"
      ],
      "execution_count": 0,
      "outputs": []
    },
    {
      "cell_type": "code",
      "metadata": {
        "id": "oXoJXbIKM-lV",
        "colab_type": "code",
        "colab": {}
      },
      "source": [
        ""
      ],
      "execution_count": 0,
      "outputs": []
    },
    {
      "cell_type": "markdown",
      "metadata": {
        "id": "zBcJE0nNVxD9",
        "colab_type": "text"
      },
      "source": [
        "## List of Flavours\n",
        "\n",
        "Ammonia\n",
        "Apple\n",
        "Apricot\n",
        "\n",
        "Berry\n",
        "Blue\n",
        "Blueberry\n",
        "\n",
        "Citrus\n",
        "Cheese\n",
        "Chemical\n",
        "Chestnut\n",
        "\n",
        "Diesel\n",
        "\n",
        "Earthy\n",
        "\n",
        "Flowery\n",
        "Fruit\n",
        "\n",
        "Grape\n",
        "Grapefruit\n",
        "\n",
        "Honey\n",
        "\n",
        "Lavender\n",
        "Lemon\n",
        "\n",
        "Mango\n",
        "Menthol\n",
        "Mint\n",
        "Minty\n",
        "\n",
        "Nutty\n",
        "\n",
        "Orange\n",
        "\n",
        "Peach\n",
        "Pepper\n",
        "Pine\n",
        "Pineapple\n",
        "Pungent\n",
        "\n",
        "Sage\n",
        "Skunk\n",
        "Spicy/Herbal\n",
        "Strawberry\n",
        "Sweet\n",
        "\n",
        "Tea\n",
        "Tobacco\n",
        "Tree\n",
        "Tropical\n",
        "\n",
        "Vanilla\n",
        "Violet\n",
        "\n",
        "Woody\n"
      ]
    },
    {
      "cell_type": "code",
      "metadata": {
        "id": "PQfaZ588TJ68",
        "colab_type": "code",
        "colab": {}
      },
      "source": [
        ""
      ],
      "execution_count": 0,
      "outputs": []
    },
    {
      "cell_type": "code",
      "metadata": {
        "colab_type": "code",
        "id": "KT_bqA6KT2jr",
        "colab": {}
      },
      "source": [
        "# Making Effects Features"
      ],
      "execution_count": 0,
      "outputs": []
    },
    {
      "cell_type": "code",
      "metadata": {
        "colab_type": "code",
        "id": "qqfZdaKmT2jy",
        "colab": {}
      },
      "source": [
        "#http://www.datasciencemadesimple.com/create-series-in-python-pandas/\n",
        "effect_data = df['Effects']\n"
      ],
      "execution_count": 0,
      "outputs": []
    },
    {
      "cell_type": "code",
      "metadata": {
        "colab_type": "code",
        "id": "zV5xgAJ2T2j0",
        "colab": {}
      },
      "source": [
        "effect_series = pd.Series(effect_data)"
      ],
      "execution_count": 0,
      "outputs": []
    },
    {
      "cell_type": "code",
      "metadata": {
        "colab_type": "code",
        "id": "OKa8ygx3T2j3",
        "colab": {}
      },
      "source": [
        "# model, tested, works\n",
        "# df['Aroused_effect'] = effect_series.str.contains('Aroused', regex=False)"
      ],
      "execution_count": 0,
      "outputs": []
    },
    {
      "cell_type": "code",
      "metadata": {
        "id": "BrR0u_IoTKPy",
        "colab_type": "code",
        "colab": {}
      },
      "source": [
        "df['Aroused_effect'] = effect_series.str.contains('Aroused', regex=False)\n",
        "\n",
        "df['Creative_effect'] = effect_series.str.contains('Creative', regex=False)\n",
        "\n",
        "df['Energetic_effect'] = effect_series.str.contains('Energetic', regex=False)\n",
        "df['Euphoric_effect'] = effect_series.str.contains('Euphoric', regex=False)\n",
        "\n",
        "\n",
        "\n",
        "df['Focused_effect'] = effect_series.str.contains('Focused', regex=False)\n",
        "\n",
        "\n",
        "df['Giggly_effect'] = effect_series.str.contains('Giggly', regex=False)\n",
        "\n",
        "\n",
        "df['Happy_effect'] = effect_series.str.contains('Happy', regex=False)\n",
        "df['Hungry_effect'] = effect_series.str.contains('Hungry', regex=False)\n",
        "\n",
        "\n",
        "\n",
        "\n",
        "df['Relaxed_effect'] = effect_series.str.contains('Relaxed', regex=False)\n",
        "\n",
        "\n",
        "df['Sleepy_effect'] = effect_series.str.contains('Sleepy', regex=False)\n",
        "\n",
        "\n",
        "df['Talkative_effect'] = effect_series.str.contains('Talkative', regex=False)\n",
        "df['Tingly_effect'] = effect_series.str.contains('Tingly', regex=False)\n",
        "\n",
        "\n",
        "\n",
        "df['Uplifted_effect'] = effect_series.str.contains('Uplifted', regex=False)\n",
        "\n",
        "\n",
        "df['None_effect'] = effect_series.str.contains('None', regex=False)\n"
      ],
      "execution_count": 0,
      "outputs": []
    },
    {
      "cell_type": "markdown",
      "metadata": {
        "id": "oEcVwKjzTKlq",
        "colab_type": "text"
      },
      "source": [
        "## List of Effects\n",
        "\n",
        "Aroused\n",
        "\n",
        "Creative\n",
        "\n",
        "Energetic\n",
        "Euphoric\n",
        "\n",
        "Focused\n",
        "\n",
        "Giggly\n",
        "\n",
        "Happy\n",
        "Hungry\n",
        "\n",
        "Relaxed\n",
        "\n",
        "Sleepy\n",
        "\n",
        "Talkative\n",
        "Tingly\n",
        "\n",
        "Uplifted\n",
        "\n",
        "None"
      ]
    },
    {
      "cell_type": "code",
      "metadata": {
        "id": "eS_lybTmWuek",
        "colab_type": "code",
        "colab": {
          "base_uri": "https://localhost:8080/",
          "height": 348
        },
        "outputId": "e601f57f-6d7e-47f9-e626-d5e4eb62fcfe"
      },
      "source": [
        "df.head(3)"
      ],
      "execution_count": 20,
      "outputs": [
        {
          "output_type": "execute_result",
          "data": {
            "text/html": [
              "<div>\n",
              "<style scoped>\n",
              "    .dataframe tbody tr th:only-of-type {\n",
              "        vertical-align: middle;\n",
              "    }\n",
              "\n",
              "    .dataframe tbody tr th {\n",
              "        vertical-align: top;\n",
              "    }\n",
              "\n",
              "    .dataframe thead th {\n",
              "        text-align: right;\n",
              "    }\n",
              "</style>\n",
              "<table border=\"1\" class=\"dataframe\">\n",
              "  <thead>\n",
              "    <tr style=\"text-align: right;\">\n",
              "      <th></th>\n",
              "      <th>Strain</th>\n",
              "      <th>Type</th>\n",
              "      <th>Rating</th>\n",
              "      <th>Effects</th>\n",
              "      <th>Flavor</th>\n",
              "      <th>Description</th>\n",
              "      <th>Ammonia_flavor</th>\n",
              "      <th>Apple_flavor</th>\n",
              "      <th>Apricot_flavor</th>\n",
              "      <th>Berry_flavor</th>\n",
              "      <th>Blue_flavor</th>\n",
              "      <th>Blueberry_flavor</th>\n",
              "      <th>Citrus_flavor</th>\n",
              "      <th>Cheese_flavor</th>\n",
              "      <th>Chemical_flavor</th>\n",
              "      <th>Chestnut_flavor</th>\n",
              "      <th>Diesel_flavor</th>\n",
              "      <th>Earthy_flavor</th>\n",
              "      <th>Flowery_flavor</th>\n",
              "      <th>Fruit_flavor</th>\n",
              "      <th>Grape_flavor</th>\n",
              "      <th>Grapefruit_flavor</th>\n",
              "      <th>Honey_flavor</th>\n",
              "      <th>Lavender_flavor</th>\n",
              "      <th>Lemon_flavor</th>\n",
              "      <th>Mango_flavor</th>\n",
              "      <th>Menthol_flavor</th>\n",
              "      <th>Mint_flavor</th>\n",
              "      <th>Minty_flavor</th>\n",
              "      <th>Nutty_flavor</th>\n",
              "      <th>Orange_flavor</th>\n",
              "      <th>Peach_flavor</th>\n",
              "      <th>Pepper_flavor</th>\n",
              "      <th>Pine_flavor</th>\n",
              "      <th>Pineapple_flavor</th>\n",
              "      <th>Pungent_flavor</th>\n",
              "      <th>Sage_flavor</th>\n",
              "      <th>Skunk_flavor</th>\n",
              "      <th>SpicyHerbal_flavor</th>\n",
              "      <th>Strawberry</th>\n",
              "      <th>Sweet_flavor</th>\n",
              "      <th>Tea_flavor</th>\n",
              "      <th>Tobacco_flavor</th>\n",
              "      <th>Tree_flavor</th>\n",
              "      <th>Tropical_flavor</th>\n",
              "      <th>Vanilla_flavor</th>\n",
              "      <th>Violet_flavor</th>\n",
              "      <th>Woody_flavor</th>\n",
              "      <th>Aroused_effect</th>\n",
              "      <th>Creative_effect</th>\n",
              "      <th>Energetic_effect</th>\n",
              "      <th>Euphoric_effect</th>\n",
              "      <th>Focused_effect</th>\n",
              "      <th>Giggly_effect</th>\n",
              "      <th>Happy_effect</th>\n",
              "      <th>Hungry_effect</th>\n",
              "      <th>Relaxed_effect</th>\n",
              "      <th>Sleepy_effect</th>\n",
              "      <th>Talkative_effect</th>\n",
              "      <th>Tingly_effect</th>\n",
              "      <th>Uplifted_effect</th>\n",
              "      <th>None_effect</th>\n",
              "    </tr>\n",
              "  </thead>\n",
              "  <tbody>\n",
              "    <tr>\n",
              "      <th>0</th>\n",
              "      <td>100-Og</td>\n",
              "      <td>hybrid</td>\n",
              "      <td>4.0</td>\n",
              "      <td>Creative,Energetic,Tingly,Euphoric,Relaxed</td>\n",
              "      <td>Earthy,Sweet,Citrus</td>\n",
              "      <td>$100 OG is a 50/50 hybrid strain that packs a ...</td>\n",
              "      <td>False</td>\n",
              "      <td>False</td>\n",
              "      <td>False</td>\n",
              "      <td>False</td>\n",
              "      <td>False</td>\n",
              "      <td>False</td>\n",
              "      <td>True</td>\n",
              "      <td>False</td>\n",
              "      <td>False</td>\n",
              "      <td>False</td>\n",
              "      <td>False</td>\n",
              "      <td>True</td>\n",
              "      <td>False</td>\n",
              "      <td>False</td>\n",
              "      <td>False</td>\n",
              "      <td>False</td>\n",
              "      <td>False</td>\n",
              "      <td>False</td>\n",
              "      <td>False</td>\n",
              "      <td>False</td>\n",
              "      <td>False</td>\n",
              "      <td>False</td>\n",
              "      <td>False</td>\n",
              "      <td>False</td>\n",
              "      <td>False</td>\n",
              "      <td>False</td>\n",
              "      <td>False</td>\n",
              "      <td>False</td>\n",
              "      <td>False</td>\n",
              "      <td>False</td>\n",
              "      <td>False</td>\n",
              "      <td>False</td>\n",
              "      <td>False</td>\n",
              "      <td>False</td>\n",
              "      <td>True</td>\n",
              "      <td>False</td>\n",
              "      <td>False</td>\n",
              "      <td>False</td>\n",
              "      <td>False</td>\n",
              "      <td>False</td>\n",
              "      <td>False</td>\n",
              "      <td>False</td>\n",
              "      <td>False</td>\n",
              "      <td>True</td>\n",
              "      <td>True</td>\n",
              "      <td>True</td>\n",
              "      <td>False</td>\n",
              "      <td>False</td>\n",
              "      <td>False</td>\n",
              "      <td>False</td>\n",
              "      <td>True</td>\n",
              "      <td>False</td>\n",
              "      <td>False</td>\n",
              "      <td>True</td>\n",
              "      <td>False</td>\n",
              "      <td>False</td>\n",
              "    </tr>\n",
              "    <tr>\n",
              "      <th>1</th>\n",
              "      <td>98-White-Widow</td>\n",
              "      <td>hybrid</td>\n",
              "      <td>4.7</td>\n",
              "      <td>Relaxed,Aroused,Creative,Happy,Energetic</td>\n",
              "      <td>Flowery,Violet,Diesel</td>\n",
              "      <td>The ‘98 Aloha White Widow is an especially pot...</td>\n",
              "      <td>False</td>\n",
              "      <td>False</td>\n",
              "      <td>False</td>\n",
              "      <td>False</td>\n",
              "      <td>False</td>\n",
              "      <td>False</td>\n",
              "      <td>False</td>\n",
              "      <td>False</td>\n",
              "      <td>False</td>\n",
              "      <td>False</td>\n",
              "      <td>True</td>\n",
              "      <td>False</td>\n",
              "      <td>True</td>\n",
              "      <td>False</td>\n",
              "      <td>False</td>\n",
              "      <td>False</td>\n",
              "      <td>False</td>\n",
              "      <td>False</td>\n",
              "      <td>False</td>\n",
              "      <td>False</td>\n",
              "      <td>False</td>\n",
              "      <td>False</td>\n",
              "      <td>False</td>\n",
              "      <td>False</td>\n",
              "      <td>False</td>\n",
              "      <td>False</td>\n",
              "      <td>False</td>\n",
              "      <td>False</td>\n",
              "      <td>False</td>\n",
              "      <td>False</td>\n",
              "      <td>False</td>\n",
              "      <td>False</td>\n",
              "      <td>False</td>\n",
              "      <td>False</td>\n",
              "      <td>False</td>\n",
              "      <td>False</td>\n",
              "      <td>False</td>\n",
              "      <td>False</td>\n",
              "      <td>False</td>\n",
              "      <td>False</td>\n",
              "      <td>True</td>\n",
              "      <td>False</td>\n",
              "      <td>True</td>\n",
              "      <td>True</td>\n",
              "      <td>True</td>\n",
              "      <td>False</td>\n",
              "      <td>False</td>\n",
              "      <td>False</td>\n",
              "      <td>True</td>\n",
              "      <td>False</td>\n",
              "      <td>True</td>\n",
              "      <td>False</td>\n",
              "      <td>False</td>\n",
              "      <td>False</td>\n",
              "      <td>False</td>\n",
              "      <td>False</td>\n",
              "    </tr>\n",
              "    <tr>\n",
              "      <th>2</th>\n",
              "      <td>1024</td>\n",
              "      <td>sativa</td>\n",
              "      <td>4.4</td>\n",
              "      <td>Uplifted,Happy,Relaxed,Energetic,Creative</td>\n",
              "      <td>Spicy/Herbal,Sage,Woody</td>\n",
              "      <td>1024 is a sativa-dominant hybrid bred in Spain...</td>\n",
              "      <td>False</td>\n",
              "      <td>False</td>\n",
              "      <td>False</td>\n",
              "      <td>False</td>\n",
              "      <td>False</td>\n",
              "      <td>False</td>\n",
              "      <td>False</td>\n",
              "      <td>False</td>\n",
              "      <td>False</td>\n",
              "      <td>False</td>\n",
              "      <td>False</td>\n",
              "      <td>False</td>\n",
              "      <td>False</td>\n",
              "      <td>False</td>\n",
              "      <td>False</td>\n",
              "      <td>False</td>\n",
              "      <td>False</td>\n",
              "      <td>False</td>\n",
              "      <td>False</td>\n",
              "      <td>False</td>\n",
              "      <td>False</td>\n",
              "      <td>False</td>\n",
              "      <td>False</td>\n",
              "      <td>False</td>\n",
              "      <td>False</td>\n",
              "      <td>False</td>\n",
              "      <td>False</td>\n",
              "      <td>False</td>\n",
              "      <td>False</td>\n",
              "      <td>False</td>\n",
              "      <td>True</td>\n",
              "      <td>False</td>\n",
              "      <td>True</td>\n",
              "      <td>False</td>\n",
              "      <td>False</td>\n",
              "      <td>False</td>\n",
              "      <td>False</td>\n",
              "      <td>False</td>\n",
              "      <td>False</td>\n",
              "      <td>False</td>\n",
              "      <td>False</td>\n",
              "      <td>True</td>\n",
              "      <td>False</td>\n",
              "      <td>True</td>\n",
              "      <td>True</td>\n",
              "      <td>False</td>\n",
              "      <td>False</td>\n",
              "      <td>False</td>\n",
              "      <td>True</td>\n",
              "      <td>False</td>\n",
              "      <td>True</td>\n",
              "      <td>False</td>\n",
              "      <td>False</td>\n",
              "      <td>False</td>\n",
              "      <td>True</td>\n",
              "      <td>False</td>\n",
              "    </tr>\n",
              "  </tbody>\n",
              "</table>\n",
              "</div>"
            ],
            "text/plain": [
              "           Strain    Type  Rating                                     Effects                   Flavor                                        Description Ammonia_flavor Apple_flavor Apricot_flavor Berry_flavor Blue_flavor Blueberry_flavor Citrus_flavor Cheese_flavor Chemical_flavor Chestnut_flavor Diesel_flavor Earthy_flavor Flowery_flavor Fruit_flavor Grape_flavor Grapefruit_flavor Honey_flavor Lavender_flavor Lemon_flavor Mango_flavor Menthol_flavor Mint_flavor Minty_flavor Nutty_flavor Orange_flavor Peach_flavor Pepper_flavor Pine_flavor Pineapple_flavor Pungent_flavor Sage_flavor Skunk_flavor SpicyHerbal_flavor Strawberry Sweet_flavor Tea_flavor Tobacco_flavor Tree_flavor Tropical_flavor Vanilla_flavor Violet_flavor Woody_flavor  Aroused_effect  Creative_effect  Energetic_effect  Euphoric_effect  Focused_effect  Giggly_effect  Happy_effect  Hungry_effect  Relaxed_effect  Sleepy_effect  Talkative_effect  Tingly_effect  Uplifted_effect  None_effect\n",
              "0          100-Og  hybrid     4.0  Creative,Energetic,Tingly,Euphoric,Relaxed      Earthy,Sweet,Citrus  $100 OG is a 50/50 hybrid strain that packs a ...          False        False          False        False       False            False          True         False           False           False         False          True          False        False        False             False        False           False        False        False          False       False        False        False         False        False         False       False            False          False       False        False              False      False         True      False          False       False           False          False         False        False           False             True              True             True           False          False         False          False            True          False             False           True            False        False\n",
              "1  98-White-Widow  hybrid     4.7    Relaxed,Aroused,Creative,Happy,Energetic    Flowery,Violet,Diesel  The ‘98 Aloha White Widow is an especially pot...          False        False          False        False       False            False         False         False           False           False          True         False           True        False        False             False        False           False        False        False          False       False        False        False         False        False         False       False            False          False       False        False              False      False        False      False          False       False           False          False          True        False            True             True              True            False           False          False          True          False            True          False             False          False            False        False\n",
              "2            1024  sativa     4.4   Uplifted,Happy,Relaxed,Energetic,Creative  Spicy/Herbal,Sage,Woody  1024 is a sativa-dominant hybrid bred in Spain...          False        False          False        False       False            False         False         False           False           False         False         False          False        False        False             False        False           False        False        False          False       False        False        False         False        False         False       False            False          False        True        False               True      False        False      False          False       False           False          False         False         True           False             True              True            False           False          False          True          False            True          False             False          False             True        False"
            ]
          },
          "metadata": {
            "tags": []
          },
          "execution_count": 20
        }
      ]
    }
  ]
}